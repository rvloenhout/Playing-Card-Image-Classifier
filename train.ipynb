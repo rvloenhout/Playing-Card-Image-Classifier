{
  "cells": [
    {
      "cell_type": "code",
      "execution_count": 1,
      "metadata": {
        "id": "t653eAKhtWsE"
      },
      "outputs": [],
      "source": [
        "import torch\n",
        "import torch.nn as nn\n",
        "from torch.utils.data import DataLoader\n",
        "from torchvision import transforms, datasets\n",
        "from model import CardClassifier\n",
        "\n",
        "train_path = \"/content/drive/MyDrive/playing_cards/train\" #/content/drive/MyDrive/playing_cards/train, ../../playing_cards/train\n",
        "valid_path = \"/content/drive/MyDrive/playing_cards/valid\" #/content/drive/MyDrive/playing_cards/valid, ../../playing_cards/valid\n",
        "test_path = \"/content/drive/MyDrive/playing_cards/test\" #/content/drive/MyDrive/playing_cards/test, ../../playing_cards/test"
      ]
    },
    {
      "cell_type": "code",
      "execution_count": 3,
      "metadata": {
        "colab": {
          "base_uri": "https://localhost:8080/"
        },
        "id": "X3wGpwWttWsI",
        "outputId": "4a5bf6c0-938e-4b79-e276-8709dbcb6bb3"
      },
      "outputs": [
        {
          "name": "stdout",
          "output_type": "stream",
          "text": [
            "Drive already mounted at /content/drive; to attempt to forcibly remount, call drive.mount(\"/content/drive\", force_remount=True).\n"
          ]
        }
      ],
      "source": [
        "from google.colab import drive\n",
        "drive.mount('/content/drive')"
      ]
    },
    {
      "cell_type": "code",
      "execution_count": 4,
      "metadata": {
        "id": "y2k6FqbrtWsJ"
      },
      "outputs": [],
      "source": [
        "#set the device\n",
        "device = torch.device(\"cuda:0\" if torch.cuda.is_available() else \"cpu\")"
      ]
    },
    {
      "cell_type": "code",
      "execution_count": 5,
      "metadata": {
        "id": "6FfrC6q_tWsJ"
      },
      "outputs": [],
      "source": [
        "transform = transforms.Compose([\n",
        "    transforms.Resize((224, 224)),\n",
        "    transforms.ToTensor(),\n",
        "])"
      ]
    },
    {
      "cell_type": "code",
      "execution_count": 6,
      "metadata": {
        "colab": {
          "base_uri": "https://localhost:8080/"
        },
        "id": "NO67L4oFtWsJ",
        "outputId": "6f55f148-f10e-4f30-ef01-55c357b55cdb"
      },
      "outputs": [
        {
          "name": "stderr",
          "output_type": "stream",
          "text": [
            "/usr/local/lib/python3.10/dist-packages/torch/utils/data/dataloader.py:557: UserWarning: This DataLoader will create 4 worker processes in total. Our suggested max number of worker in current system is 2, which is smaller than what this DataLoader is going to create. Please be aware that excessive worker creation might get DataLoader running slow or even freeze, lower the worker number to avoid potential slowness/freeze if necessary.\n",
            "  warnings.warn(_create_warning_msg(\n"
          ]
        }
      ],
      "source": [
        "train_dataset = datasets.ImageFolder(train_path, transform=transform)\n",
        "valid_dataset = datasets.ImageFolder(valid_path, transform=transform)\n",
        "test_dataset = datasets.ImageFolder(test_path, transform=transform)\n",
        "\n",
        "# load data into the GPU memory\n",
        "train_loader = DataLoader(train_dataset, batch_size=32, shuffle=True, pin_memory=True, num_workers=4)\n",
        "valid_loader = DataLoader(valid_dataset, batch_size=32, shuffle=False, pin_memory=True, num_workers=4)\n",
        "test_loader = DataLoader(test_dataset, batch_size=32, shuffle=False, pin_memory=True, num_workers=4)"
      ]
    },
    {
      "cell_type": "code",
      "execution_count": 7,
      "metadata": {
        "id": "mFunSdB8tWsK"
      },
      "outputs": [],
      "source": [
        "model = CardClassifier().to(device)\n",
        "\n",
        "criterion = nn.CrossEntropyLoss()\n",
        "optimizer = torch.optim.Adam(model.parameters(), lr=0.001)"
      ]
    },
    {
      "cell_type": "code",
      "execution_count": 9,
      "metadata": {
        "colab": {
          "base_uri": "https://localhost:8080/"
        },
        "id": "t82EQAqItWsK",
        "outputId": "1891847d-fae3-4ec7-ec86-458c0af0dfc7"
      },
      "outputs": [
        {
          "name": "stdout",
          "output_type": "stream",
          "text": [
            "Epoch 1/100 => Train Loss: 0.0223, Validation Loss: 1.0249, Validation Accuracy: 80.38%\n",
            "Epoch 2/100 => Train Loss: 0.0215, Validation Loss: 1.0218, Validation Accuracy: 80.38%\n",
            "Epoch 3/100 => Train Loss: 0.0242, Validation Loss: 1.1586, Validation Accuracy: 82.26%\n",
            "Epoch 4/100 => Train Loss: 0.0335, Validation Loss: 1.3834, Validation Accuracy: 78.49%\n",
            "Epoch 5/100 => Train Loss: 0.0634, Validation Loss: 1.3870, Validation Accuracy: 76.23%\n",
            "Epoch 6/100 => Train Loss: 0.0805, Validation Loss: 1.2808, Validation Accuracy: 77.74%\n",
            "Epoch 7/100 => Train Loss: 0.0457, Validation Loss: 1.3491, Validation Accuracy: 76.98%\n",
            "Epoch 8/100 => Train Loss: 0.0378, Validation Loss: 1.3373, Validation Accuracy: 75.09%\n",
            "Epoch 9/100 => Train Loss: 0.0227, Validation Loss: 1.4774, Validation Accuracy: 80.00%\n",
            "Epoch 10/100 => Train Loss: 0.0099, Validation Loss: 1.4543, Validation Accuracy: 78.87%\n",
            "Epoch 11/100 => Train Loss: 0.0130, Validation Loss: 1.4112, Validation Accuracy: 79.25%\n",
            "Epoch 12/100 => Train Loss: 0.0041, Validation Loss: 1.5058, Validation Accuracy: 79.25%\n",
            "Epoch 13/100 => Train Loss: 0.0046, Validation Loss: 1.3385, Validation Accuracy: 79.25%\n",
            "Epoch 14/100 => Train Loss: 0.0030, Validation Loss: 1.5180, Validation Accuracy: 78.11%\n",
            "Epoch 15/100 => Train Loss: 0.0051, Validation Loss: 1.4862, Validation Accuracy: 79.25%\n",
            "Epoch 16/100 => Train Loss: 0.0041, Validation Loss: 1.3345, Validation Accuracy: 78.49%\n",
            "Epoch 17/100 => Train Loss: 0.0042, Validation Loss: 1.5133, Validation Accuracy: 78.49%\n",
            "Epoch 18/100 => Train Loss: 0.0232, Validation Loss: 1.9684, Validation Accuracy: 73.21%\n",
            "Epoch 19/100 => Train Loss: 0.0864, Validation Loss: 1.8661, Validation Accuracy: 74.72%\n",
            "Epoch 20/100 => Train Loss: 0.0719, Validation Loss: 1.7006, Validation Accuracy: 75.09%\n",
            "Epoch 21/100 => Train Loss: 0.0507, Validation Loss: 1.4703, Validation Accuracy: 78.49%\n",
            "Epoch 22/100 => Train Loss: 0.0221, Validation Loss: 1.4362, Validation Accuracy: 78.11%\n",
            "Epoch 23/100 => Train Loss: 0.0120, Validation Loss: 1.3098, Validation Accuracy: 78.87%\n",
            "Epoch 24/100 => Train Loss: 0.0105, Validation Loss: 1.3042, Validation Accuracy: 79.62%\n",
            "Epoch 25/100 => Train Loss: 0.0030, Validation Loss: 1.2017, Validation Accuracy: 79.25%\n",
            "Epoch 26/100 => Train Loss: 0.0051, Validation Loss: 1.2541, Validation Accuracy: 79.62%\n",
            "Epoch 27/100 => Train Loss: 0.0022, Validation Loss: 1.3129, Validation Accuracy: 79.62%\n",
            "Epoch 28/100 => Train Loss: 0.0009, Validation Loss: 1.3540, Validation Accuracy: 79.62%\n",
            "Epoch 29/100 => Train Loss: 0.0009, Validation Loss: 1.3617, Validation Accuracy: 79.62%\n",
            "Epoch 30/100 => Train Loss: 0.0010, Validation Loss: 1.3165, Validation Accuracy: 80.75%\n",
            "Epoch 31/100 => Train Loss: 0.0007, Validation Loss: 1.3755, Validation Accuracy: 80.00%\n",
            "Epoch 32/100 => Train Loss: 0.0006, Validation Loss: 1.4086, Validation Accuracy: 80.00%\n",
            "Epoch 33/100 => Train Loss: 0.0013, Validation Loss: 1.2913, Validation Accuracy: 80.00%\n",
            "Epoch 34/100 => Train Loss: 0.0010, Validation Loss: 1.3039, Validation Accuracy: 80.00%\n",
            "Epoch 35/100 => Train Loss: 0.0007, Validation Loss: 1.3830, Validation Accuracy: 81.13%\n",
            "Epoch 36/100 => Train Loss: 0.0006, Validation Loss: 1.4096, Validation Accuracy: 81.13%\n",
            "Epoch 37/100 => Train Loss: 0.0022, Validation Loss: 1.3096, Validation Accuracy: 80.00%\n",
            "Epoch 38/100 => Train Loss: 0.0013, Validation Loss: 1.2267, Validation Accuracy: 80.00%\n",
            "Epoch 39/100 => Train Loss: 0.0017, Validation Loss: 1.2726, Validation Accuracy: 80.75%\n",
            "Epoch 40/100 => Train Loss: 0.0008, Validation Loss: 1.2702, Validation Accuracy: 81.13%\n",
            "Epoch 41/100 => Train Loss: 0.0007, Validation Loss: 1.3455, Validation Accuracy: 80.75%\n",
            "Epoch 42/100 => Train Loss: 0.1230, Validation Loss: 2.0095, Validation Accuracy: 72.45%\n",
            "Epoch 43/100 => Train Loss: 0.0805, Validation Loss: 1.3353, Validation Accuracy: 77.36%\n",
            "Epoch 44/100 => Train Loss: 0.0108, Validation Loss: 1.4897, Validation Accuracy: 78.87%\n",
            "Epoch 45/100 => Train Loss: 0.0028, Validation Loss: 1.3852, Validation Accuracy: 79.25%\n",
            "Epoch 46/100 => Train Loss: 0.0078, Validation Loss: 1.4033, Validation Accuracy: 78.87%\n",
            "Epoch 47/100 => Train Loss: 0.0026, Validation Loss: 1.2414, Validation Accuracy: 79.25%\n",
            "Epoch 48/100 => Train Loss: 0.0012, Validation Loss: 1.3080, Validation Accuracy: 79.25%\n",
            "Epoch 49/100 => Train Loss: 0.0012, Validation Loss: 1.3024, Validation Accuracy: 79.62%\n",
            "Epoch 50/100 => Train Loss: 0.0015, Validation Loss: 1.3389, Validation Accuracy: 80.00%\n",
            "Epoch 51/100 => Train Loss: 0.0010, Validation Loss: 1.2405, Validation Accuracy: 80.38%\n",
            "Epoch 52/100 => Train Loss: 0.0011, Validation Loss: 1.2924, Validation Accuracy: 81.13%\n",
            "Epoch 53/100 => Train Loss: 0.0006, Validation Loss: 1.3159, Validation Accuracy: 81.89%\n",
            "Epoch 54/100 => Train Loss: 0.0012, Validation Loss: 1.2486, Validation Accuracy: 80.00%\n",
            "Epoch 55/100 => Train Loss: 0.0006, Validation Loss: 1.2793, Validation Accuracy: 81.13%\n",
            "Epoch 56/100 => Train Loss: 0.0006, Validation Loss: 1.3055, Validation Accuracy: 81.51%\n",
            "Epoch 57/100 => Train Loss: 0.0006, Validation Loss: 1.3047, Validation Accuracy: 81.51%\n",
            "Epoch 58/100 => Train Loss: 0.0007, Validation Loss: 1.3024, Validation Accuracy: 80.00%\n",
            "Epoch 59/100 => Train Loss: 0.0006, Validation Loss: 1.2990, Validation Accuracy: 79.25%\n",
            "Epoch 60/100 => Train Loss: 0.0005, Validation Loss: 1.4216, Validation Accuracy: 80.38%\n",
            "Epoch 61/100 => Train Loss: 0.0008, Validation Loss: 1.3242, Validation Accuracy: 78.49%\n",
            "Epoch 62/100 => Train Loss: 0.0012, Validation Loss: 1.2513, Validation Accuracy: 79.62%\n",
            "Epoch 63/100 => Train Loss: 0.0724, Validation Loss: 2.4933, Validation Accuracy: 73.21%\n",
            "Epoch 64/100 => Train Loss: 0.0638, Validation Loss: 1.6395, Validation Accuracy: 76.98%\n",
            "Epoch 65/100 => Train Loss: 0.0147, Validation Loss: 1.6639, Validation Accuracy: 78.49%\n",
            "Epoch 66/100 => Train Loss: 0.0064, Validation Loss: 1.7888, Validation Accuracy: 76.98%\n",
            "Epoch 67/100 => Train Loss: 0.0103, Validation Loss: 1.8263, Validation Accuracy: 78.11%\n",
            "Epoch 68/100 => Train Loss: 0.0029, Validation Loss: 1.6938, Validation Accuracy: 77.74%\n",
            "Epoch 69/100 => Train Loss: 0.0029, Validation Loss: 1.5973, Validation Accuracy: 76.98%\n",
            "Epoch 70/100 => Train Loss: 0.0011, Validation Loss: 1.5863, Validation Accuracy: 77.74%\n",
            "Epoch 71/100 => Train Loss: 0.0007, Validation Loss: 1.5600, Validation Accuracy: 77.36%\n",
            "Epoch 72/100 => Train Loss: 0.0007, Validation Loss: 1.5673, Validation Accuracy: 77.36%\n",
            "Epoch 73/100 => Train Loss: 0.0008, Validation Loss: 1.5663, Validation Accuracy: 77.74%\n",
            "Epoch 74/100 => Train Loss: 0.0006, Validation Loss: 1.5739, Validation Accuracy: 78.11%\n",
            "Epoch 75/100 => Train Loss: 0.0008, Validation Loss: 1.5597, Validation Accuracy: 78.11%\n",
            "Epoch 76/100 => Train Loss: 0.0006, Validation Loss: 1.5309, Validation Accuracy: 77.74%\n",
            "Epoch 77/100 => Train Loss: 0.0006, Validation Loss: 1.5436, Validation Accuracy: 77.74%\n",
            "Epoch 78/100 => Train Loss: 0.0006, Validation Loss: 1.5522, Validation Accuracy: 77.74%\n",
            "Epoch 79/100 => Train Loss: 0.0006, Validation Loss: 1.5371, Validation Accuracy: 77.74%\n",
            "Epoch 80/100 => Train Loss: 0.0007, Validation Loss: 1.5143, Validation Accuracy: 77.36%\n",
            "Epoch 81/100 => Train Loss: 0.0008, Validation Loss: 1.5091, Validation Accuracy: 77.74%\n",
            "Epoch 82/100 => Train Loss: 0.0019, Validation Loss: 1.4625, Validation Accuracy: 75.85%\n",
            "Epoch 83/100 => Train Loss: 0.0015, Validation Loss: 1.3309, Validation Accuracy: 75.47%\n",
            "Epoch 84/100 => Train Loss: 0.0006, Validation Loss: 1.4258, Validation Accuracy: 75.47%\n",
            "Epoch 85/100 => Train Loss: 0.0007, Validation Loss: 1.5017, Validation Accuracy: 75.47%\n",
            "Epoch 86/100 => Train Loss: 0.0007, Validation Loss: 1.3925, Validation Accuracy: 76.60%\n",
            "Epoch 87/100 => Train Loss: 0.0592, Validation Loss: 2.2877, Validation Accuracy: 72.83%\n",
            "Epoch 88/100 => Train Loss: 0.0703, Validation Loss: 1.6446, Validation Accuracy: 73.21%\n",
            "Epoch 89/100 => Train Loss: 0.0217, Validation Loss: 1.6477, Validation Accuracy: 72.45%\n",
            "Epoch 90/100 => Train Loss: 0.0190, Validation Loss: 2.1860, Validation Accuracy: 73.96%\n",
            "Epoch 91/100 => Train Loss: 0.0161, Validation Loss: 1.8733, Validation Accuracy: 71.70%\n",
            "Epoch 92/100 => Train Loss: 0.0059, Validation Loss: 1.7030, Validation Accuracy: 74.34%\n",
            "Epoch 93/100 => Train Loss: 0.0028, Validation Loss: 1.6339, Validation Accuracy: 75.47%\n",
            "Epoch 94/100 => Train Loss: 0.0020, Validation Loss: 1.6127, Validation Accuracy: 75.85%\n",
            "Epoch 95/100 => Train Loss: 0.0013, Validation Loss: 1.5796, Validation Accuracy: 75.47%\n",
            "Epoch 96/100 => Train Loss: 0.0008, Validation Loss: 1.6092, Validation Accuracy: 75.09%\n",
            "Epoch 97/100 => Train Loss: 0.0008, Validation Loss: 1.5852, Validation Accuracy: 75.47%\n",
            "Epoch 98/100 => Train Loss: 0.0008, Validation Loss: 1.6087, Validation Accuracy: 74.72%\n",
            "Epoch 99/100 => Train Loss: 0.0007, Validation Loss: 1.6248, Validation Accuracy: 74.72%\n",
            "Epoch 100/100 => Train Loss: 0.0007, Validation Loss: 1.6418, Validation Accuracy: 74.34%\n"
          ]
        }
      ],
      "source": [
        "num_epochs = 100  # Set the number of training epochs\n",
        "\n",
        "for epoch in range(num_epochs):\n",
        "    model.train()\n",
        "    running_loss = 0.0\n",
        "\n",
        "    for inputs, labels in train_loader:\n",
        "        # Move inputs and labels to GPU\n",
        "        inputs, labels = inputs.to(device), labels.to(device)\n",
        "\n",
        "        optimizer.zero_grad()\n",
        "\n",
        "        outputs = model(inputs)\n",
        "        loss = criterion(outputs, labels)\n",
        "        loss.backward()\n",
        "        optimizer.step()\n",
        "\n",
        "        running_loss += loss.item()\n",
        "\n",
        "    # Calculate average training loss for the epoch\n",
        "    average_train_loss = running_loss / len(train_loader)\n",
        "\n",
        "    # Validation loop\n",
        "    model.eval()\n",
        "    val_loss = 0.0\n",
        "    correct = 0\n",
        "    total = 0\n",
        "\n",
        "    with torch.no_grad():\n",
        "        for inputs, labels in valid_loader:\n",
        "            # Move inputs and labels to GPU\n",
        "            inputs, labels = inputs.to(device), labels.to(device)\n",
        "\n",
        "            outputs = model(inputs)\n",
        "            loss = criterion(outputs, labels)\n",
        "            val_loss += loss.item()\n",
        "\n",
        "            _, predicted = outputs.max(1)\n",
        "            total += labels.size(0)\n",
        "            correct += predicted.eq(labels).sum().item()\n",
        "\n",
        "    # Calculate average validation loss and accuracy for the epoch\n",
        "    average_val_loss = val_loss / len(valid_loader)\n",
        "    accuracy = correct / total\n",
        "\n",
        "    print(f\"Epoch {epoch+1}/{num_epochs} => \"\n",
        "          f\"Train Loss: {average_train_loss:.4f}, \"\n",
        "          f\"Validation Loss: {average_val_loss:.4f}, \"\n",
        "          f\"Validation Accuracy: {accuracy * 100:.2f}%\")\n"
      ]
    },
    {
      "cell_type": "code",
      "execution_count": 11,
      "metadata": {
        "id": "42p3FUy_tWsM"
      },
      "outputs": [],
      "source": [
        "torch.save(model.state_dict(), \"card_classifier.pth\")"
      ]
    }
  ],
  "metadata": {
    "accelerator": "GPU",
    "colab": {
      "gpuType": "T4",
      "provenance": []
    },
    "kernelspec": {
      "display_name": "Python 3",
      "name": "python3"
    },
    "language_info": {
      "codemirror_mode": {
        "name": "ipython",
        "version": 3
      },
      "file_extension": ".py",
      "mimetype": "text/x-python",
      "name": "python",
      "nbconvert_exporter": "python",
      "pygments_lexer": "ipython3",
      "version": "3.10.11"
    }
  },
  "nbformat": 4,
  "nbformat_minor": 0
}
