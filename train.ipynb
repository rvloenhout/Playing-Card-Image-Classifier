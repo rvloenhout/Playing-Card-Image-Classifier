{
  "cells": [
    {
      "cell_type": "code",
      "execution_count": 1,
      "metadata": {
        "id": "t653eAKhtWsE"
      },
      "outputs": [],
      "source": [
        "import torch\n",
        "import torch.nn as nn\n",
        "from torch.utils.data import DataLoader\n",
        "from torchvision import transforms, datasets\n",
        "from model_v2 import CardClassifier\n",
        "\n",
        "train_path = \"/content/drive/MyDrive/playing_cards/train\" #/content/drive/MyDrive/playing_cards/train, ../../playing_cards/train\n",
        "valid_path = \"/content/drive/MyDrive/playing_cards/valid\" #/content/drive/MyDrive/playing_cards/valid, ../../playing_cards/valid"
      ]
    },
    {
      "cell_type": "code",
      "execution_count": 3,
      "metadata": {
        "id": "a6-R25tVTPbO"
      },
      "outputs": [],
      "source": [
        "class EarlyStopper:\n",
        "    def __init__(self, patience=1, min_delta=0):\n",
        "        self.patience = patience\n",
        "        self.min_delta = min_delta\n",
        "        self.counter = 0\n",
        "        self.min_validation_loss = float('inf')\n",
        "\n",
        "    def early_stop(self, validation_loss):\n",
        "        if validation_loss < self.min_validation_loss:\n",
        "            self.min_validation_loss = validation_loss\n",
        "            self.counter = 0\n",
        "        elif validation_loss > (self.min_validation_loss + self.min_delta):\n",
        "            self.counter += 1\n",
        "            if self.counter >= self.patience:\n",
        "                return True\n",
        "        return False"
      ]
    },
    {
      "cell_type": "code",
      "execution_count": 4,
      "metadata": {
        "colab": {
          "base_uri": "https://localhost:8080/"
        },
        "id": "X3wGpwWttWsI",
        "outputId": "50c7186c-46dc-4daa-f3a5-399ccc676f73"
      },
      "outputs": [
        {
          "name": "stdout",
          "output_type": "stream",
          "text": [
            "Mounted at /content/drive\n"
          ]
        }
      ],
      "source": [
        "from google.colab import drive\n",
        "drive.mount('/content/drive')"
      ]
    },
    {
      "cell_type": "code",
      "execution_count": 5,
      "metadata": {
        "id": "y2k6FqbrtWsJ"
      },
      "outputs": [],
      "source": [
        "#set the device\n",
        "device = torch.device(\"cuda:0\" if torch.cuda.is_available() else \"cpu\")"
      ]
    },
    {
      "cell_type": "code",
      "execution_count": 6,
      "metadata": {
        "id": "6FfrC6q_tWsJ"
      },
      "outputs": [],
      "source": [
        "transform = transforms.Compose([\n",
        "    transforms.Resize((224, 224)),\n",
        "    transforms.ToTensor(),\n",
        "])"
      ]
    },
    {
      "cell_type": "code",
      "execution_count": 7,
      "metadata": {
        "colab": {
          "base_uri": "https://localhost:8080/"
        },
        "id": "NO67L4oFtWsJ",
        "outputId": "dec8a807-7f5d-4198-fae1-7ed719de5fb9"
      },
      "outputs": [
        {
          "name": "stderr",
          "output_type": "stream",
          "text": [
            "/usr/local/lib/python3.10/dist-packages/torch/utils/data/dataloader.py:557: UserWarning: This DataLoader will create 4 worker processes in total. Our suggested max number of worker in current system is 2, which is smaller than what this DataLoader is going to create. Please be aware that excessive worker creation might get DataLoader running slow or even freeze, lower the worker number to avoid potential slowness/freeze if necessary.\n",
            "  warnings.warn(_create_warning_msg(\n"
          ]
        }
      ],
      "source": [
        "train_dataset = datasets.ImageFolder(train_path, transform=transform)\n",
        "valid_dataset = datasets.ImageFolder(valid_path, transform=transform)\n",
        "\n",
        "train_loader = DataLoader(train_dataset, batch_size=32, shuffle=True, pin_memory=True, num_workers=4)\n",
        "valid_loader = DataLoader(valid_dataset, batch_size=32, shuffle=False, pin_memory=True, num_workers=4)"
      ]
    },
    {
      "cell_type": "code",
      "execution_count": 8,
      "metadata": {
        "id": "mFunSdB8tWsK"
      },
      "outputs": [],
      "source": [
        "model = CardClassifier().to(device)\n",
        "\n",
        "criterion = nn.CrossEntropyLoss()\n",
        "optimizer = torch.optim.Adam(model.parameters(), lr=0.001)"
      ]
    },
    {
      "cell_type": "code",
      "execution_count": 9,
      "metadata": {
        "colab": {
          "base_uri": "https://localhost:8080/"
        },
        "id": "t82EQAqItWsK",
        "outputId": "1743bfd9-d0b4-45a1-98f8-5bebea005a93"
      },
      "outputs": [
        {
          "name": "stdout",
          "output_type": "stream",
          "text": [
            "Epoch 1/100 => Train Loss: 3.0056, Validation Loss: 1.7711, Validation Accuracy: 42.64%\n",
            "Epoch 2/100 => Train Loss: 1.6750, Validation Loss: 1.0617, Validation Accuracy: 68.30%\n",
            "Epoch 3/100 => Train Loss: 0.8561, Validation Loss: 1.0411, Validation Accuracy: 75.09%\n",
            "Epoch 4/100 => Train Loss: 0.4019, Validation Loss: 1.1850, Validation Accuracy: 79.25%\n",
            "Epoch 5/100 => Train Loss: 0.1916, Validation Loss: 1.1290, Validation Accuracy: 80.75%\n",
            "Epoch 6/100 => Train Loss: 0.1266, Validation Loss: 1.3260, Validation Accuracy: 81.13%\n",
            "Epoch 7/100 => Train Loss: 0.0909, Validation Loss: 1.4696, Validation Accuracy: 80.00%\n",
            "Epoch 8/100 => Train Loss: 0.0661, Validation Loss: 1.2836, Validation Accuracy: 82.26%\n",
            "Epoch 9/100 => Train Loss: 0.0399, Validation Loss: 1.4530, Validation Accuracy: 80.75%\n",
            "Epoch 10/100 => Train Loss: 0.0502, Validation Loss: 1.5176, Validation Accuracy: 83.77%\n",
            "Epoch 11/100 => Train Loss: 0.0593, Validation Loss: 1.2361, Validation Accuracy: 81.51%\n",
            "Epoch 12/100 => Train Loss: 0.0832, Validation Loss: 1.1162, Validation Accuracy: 82.26%\n",
            "Epoch 13/100 => Train Loss: 0.0549, Validation Loss: 1.4978, Validation Accuracy: 81.13%\n",
            "Epoch 14/100 => Train Loss: 0.0512, Validation Loss: 1.4427, Validation Accuracy: 79.25%\n",
            "Epoch 15/100 => Train Loss: 0.0451, Validation Loss: 1.3982, Validation Accuracy: 80.00%\n",
            "Epoch 16/100 => Train Loss: 0.0178, Validation Loss: 1.1962, Validation Accuracy: 82.26%\n",
            "Epoch 17/100 => Train Loss: 0.0214, Validation Loss: 1.3378, Validation Accuracy: 81.13%\n",
            "Epoch 18/100 => Train Loss: 0.0264, Validation Loss: 1.1862, Validation Accuracy: 82.26%\n",
            "Epoch 19/100 => Train Loss: 0.0199, Validation Loss: 1.4963, Validation Accuracy: 79.25%\n",
            "Epoch 20/100 => Train Loss: 0.0353, Validation Loss: 1.7853, Validation Accuracy: 78.49%\n",
            "Epoch 21/100 => Train Loss: 0.0397, Validation Loss: 1.4336, Validation Accuracy: 83.02%\n",
            "Epoch 22/100 => Train Loss: 0.0288, Validation Loss: 1.4163, Validation Accuracy: 83.02%\n",
            "Epoch 23/100 => Train Loss: 0.0368, Validation Loss: 1.5645, Validation Accuracy: 81.89%\n",
            "Epoch 24/100 => Train Loss: 0.0117, Validation Loss: 1.7616, Validation Accuracy: 81.89%\n",
            "Epoch 25/100 => Train Loss: 0.0128, Validation Loss: 1.9938, Validation Accuracy: 82.26%\n",
            "Epoch 26/100 => Train Loss: 0.0305, Validation Loss: 2.2829, Validation Accuracy: 74.34%\n",
            "Epoch 27/100 => Train Loss: 0.0743, Validation Loss: 1.4314, Validation Accuracy: 83.40%\n",
            "Epoch 28/100 => Train Loss: 0.0503, Validation Loss: 1.7056, Validation Accuracy: 81.89%\n",
            "Epoch 29/100 => Train Loss: 0.0152, Validation Loss: 1.4043, Validation Accuracy: 84.53%\n",
            "Epoch 30/100 => Train Loss: 0.0172, Validation Loss: 1.3624, Validation Accuracy: 84.53%\n",
            "Epoch 31/100 => Train Loss: 0.0055, Validation Loss: 1.8971, Validation Accuracy: 83.77%\n",
            "Epoch 32/100 => Train Loss: 0.0139, Validation Loss: 1.5809, Validation Accuracy: 82.64%\n",
            "Epoch 33/100 => Train Loss: 0.0110, Validation Loss: 1.4767, Validation Accuracy: 84.53%\n",
            "Epoch 34/100 => Train Loss: 0.0215, Validation Loss: 1.3389, Validation Accuracy: 82.64%\n",
            "Epoch 35/100 => Train Loss: 0.0166, Validation Loss: 1.4230, Validation Accuracy: 81.89%\n",
            "Epoch 36/100 => Train Loss: 0.0258, Validation Loss: 1.6711, Validation Accuracy: 82.64%\n",
            "Epoch 37/100 => Train Loss: 0.0513, Validation Loss: 1.7720, Validation Accuracy: 81.51%\n",
            "Epoch 38/100 => Train Loss: 0.0431, Validation Loss: 1.1530, Validation Accuracy: 83.77%\n",
            "Epoch 39/100 => Train Loss: 0.0111, Validation Loss: 1.1077, Validation Accuracy: 85.28%\n",
            "Epoch 40/100 => Train Loss: 0.0099, Validation Loss: 1.3281, Validation Accuracy: 86.04%\n",
            "Epoch 41/100 => Train Loss: 0.0114, Validation Loss: 1.8248, Validation Accuracy: 84.15%\n",
            "Epoch 42/100 => Train Loss: 0.0160, Validation Loss: 1.5736, Validation Accuracy: 84.53%\n",
            "Epoch 43/100 => Train Loss: 0.0050, Validation Loss: 1.8685, Validation Accuracy: 84.53%\n",
            "Epoch 44/100 => Train Loss: 0.0151, Validation Loss: 1.9708, Validation Accuracy: 84.15%\n",
            "Epoch 45/100 => Train Loss: 0.0203, Validation Loss: 1.7728, Validation Accuracy: 81.89%\n",
            "Epoch 46/100 => Train Loss: 0.0323, Validation Loss: 1.8511, Validation Accuracy: 82.26%\n",
            "Epoch 47/100 => Train Loss: 0.0410, Validation Loss: 1.8616, Validation Accuracy: 81.89%\n",
            "Epoch 48/100 => Train Loss: 0.0227, Validation Loss: 1.6655, Validation Accuracy: 82.26%\n",
            "Epoch 49/100 => Train Loss: 0.0046, Validation Loss: 2.0618, Validation Accuracy: 83.02%\n",
            "Epoch 50/100 => Train Loss: 0.0118, Validation Loss: 1.3251, Validation Accuracy: 81.89%\n",
            "Epoch 51/100 => Train Loss: 0.0043, Validation Loss: 1.5530, Validation Accuracy: 83.77%\n",
            "Epoch 52/100 => Train Loss: 0.0007, Validation Loss: 1.6558, Validation Accuracy: 83.40%\n",
            "Epoch 53/100 => Train Loss: 0.0006, Validation Loss: 1.6817, Validation Accuracy: 84.15%\n",
            "Epoch 54/100 => Train Loss: 0.0006, Validation Loss: 1.6811, Validation Accuracy: 84.15%\n",
            "Epoch 55/100 => Train Loss: 0.0006, Validation Loss: 1.6964, Validation Accuracy: 84.15%\n",
            "Epoch 56/100 => Train Loss: 0.0006, Validation Loss: 1.7223, Validation Accuracy: 84.15%\n",
            "Epoch 57/100 => Train Loss: 0.0006, Validation Loss: 1.7337, Validation Accuracy: 83.77%\n",
            "Epoch 58/100 => Train Loss: 0.0008, Validation Loss: 1.6202, Validation Accuracy: 83.77%\n",
            "Epoch 59/100 => Train Loss: 0.0013, Validation Loss: 1.5818, Validation Accuracy: 83.40%\n",
            "Epoch 60/100 => Train Loss: 0.0013, Validation Loss: 1.3078, Validation Accuracy: 81.51%\n",
            "Epoch 61/100 => Train Loss: 0.0007, Validation Loss: 1.5527, Validation Accuracy: 83.02%\n",
            "Epoch 62/100 => Train Loss: 0.0008, Validation Loss: 1.5092, Validation Accuracy: 82.26%\n",
            "Epoch 63/100 => Train Loss: 0.0006, Validation Loss: 1.7404, Validation Accuracy: 81.89%\n",
            "Epoch 64/100 => Train Loss: 0.0007, Validation Loss: 1.6852, Validation Accuracy: 81.13%\n",
            "Epoch 65/100 => Train Loss: 0.0005, Validation Loss: 1.9258, Validation Accuracy: 82.64%\n",
            "Epoch 66/100 => Train Loss: 0.0007, Validation Loss: 1.6789, Validation Accuracy: 80.38%\n",
            "Epoch 67/100 => Train Loss: 0.0006, Validation Loss: 1.8809, Validation Accuracy: 81.89%\n",
            "Epoch 68/100 => Train Loss: 0.0058, Validation Loss: 1.4227, Validation Accuracy: 80.75%\n",
            "Epoch 69/100 => Train Loss: 0.1231, Validation Loss: 1.4875, Validation Accuracy: 80.75%\n",
            "Epoch 70/100 => Train Loss: 0.0466, Validation Loss: 1.4849, Validation Accuracy: 80.00%\n",
            "Epoch 71/100 => Train Loss: 0.0196, Validation Loss: 1.1941, Validation Accuracy: 80.75%\n",
            "Epoch 72/100 => Train Loss: 0.0044, Validation Loss: 1.2551, Validation Accuracy: 83.40%\n",
            "Epoch 73/100 => Train Loss: 0.0014, Validation Loss: 1.2902, Validation Accuracy: 83.77%\n",
            "Epoch 74/100 => Train Loss: 0.0007, Validation Loss: 1.3555, Validation Accuracy: 83.77%\n",
            "Epoch 75/100 => Train Loss: 0.0006, Validation Loss: 1.3499, Validation Accuracy: 83.40%\n",
            "Epoch 76/100 => Train Loss: 0.0005, Validation Loss: 1.3564, Validation Accuracy: 83.40%\n",
            "Epoch 77/100 => Train Loss: 0.0005, Validation Loss: 1.3881, Validation Accuracy: 83.40%\n",
            "Epoch 78/100 => Train Loss: 0.0005, Validation Loss: 1.4167, Validation Accuracy: 83.40%\n",
            "Epoch 79/100 => Train Loss: 0.0005, Validation Loss: 1.4155, Validation Accuracy: 83.40%\n",
            "Epoch 80/100 => Train Loss: 0.0005, Validation Loss: 1.4335, Validation Accuracy: 83.40%\n",
            "Epoch 81/100 => Train Loss: 0.0005, Validation Loss: 1.4560, Validation Accuracy: 83.40%\n",
            "Epoch 82/100 => Train Loss: 0.0004, Validation Loss: 1.4736, Validation Accuracy: 83.40%\n",
            "Epoch 83/100 => Train Loss: 0.0005, Validation Loss: 1.4713, Validation Accuracy: 83.02%\n",
            "Epoch 84/100 => Train Loss: 0.0013, Validation Loss: 1.2555, Validation Accuracy: 82.26%\n",
            "Epoch 85/100 => Train Loss: 0.0008, Validation Loss: 1.4480, Validation Accuracy: 82.64%\n",
            "Epoch 86/100 => Train Loss: 0.0007, Validation Loss: 1.6059, Validation Accuracy: 83.02%\n",
            "Epoch 87/100 => Train Loss: 0.0007, Validation Loss: 1.6155, Validation Accuracy: 83.02%\n",
            "Epoch 88/100 => Train Loss: 0.0006, Validation Loss: 1.7478, Validation Accuracy: 81.89%\n",
            "Epoch 89/100 => Train Loss: 0.0007, Validation Loss: 1.7944, Validation Accuracy: 81.51%\n",
            "Epoch 90/100 => Train Loss: 0.0005, Validation Loss: 1.7665, Validation Accuracy: 82.64%\n",
            "Epoch 91/100 => Train Loss: 0.0005, Validation Loss: 1.8422, Validation Accuracy: 81.89%\n",
            "Epoch 92/100 => Train Loss: 0.0005, Validation Loss: 1.7550, Validation Accuracy: 82.26%\n",
            "Epoch 93/100 => Train Loss: 0.0005, Validation Loss: 1.7946, Validation Accuracy: 83.40%\n",
            "Epoch 94/100 => Train Loss: 0.0005, Validation Loss: 1.8518, Validation Accuracy: 83.02%\n",
            "Epoch 95/100 => Train Loss: 0.0005, Validation Loss: 1.7656, Validation Accuracy: 82.26%\n",
            "Epoch 96/100 => Train Loss: 0.0006, Validation Loss: 1.6525, Validation Accuracy: 83.40%\n",
            "Epoch 97/100 => Train Loss: 0.1291, Validation Loss: 1.8154, Validation Accuracy: 79.25%\n",
            "Epoch 98/100 => Train Loss: 0.0276, Validation Loss: 1.3934, Validation Accuracy: 83.02%\n",
            "Epoch 99/100 => Train Loss: 0.0074, Validation Loss: 1.8924, Validation Accuracy: 81.13%\n",
            "Epoch 100/100 => Train Loss: 0.0116, Validation Loss: 1.4925, Validation Accuracy: 83.02%\n"
          ]
        }
      ],
      "source": [
        "num_epochs = 100  # Set the number of training epochs\n",
        "early_stopper = EarlyStopper(patience=3, min_delta=10)  # Set early stopping configuration\n",
        "\n",
        "for epoch in range(num_epochs):\n",
        "    model.train()\n",
        "    running_loss = 0.0\n",
        "\n",
        "    for inputs, labels in train_loader:\n",
        "        # Move inputs and labels to GPU\n",
        "        inputs, labels = inputs.to(device), labels.to(device)\n",
        "\n",
        "        optimizer.zero_grad()\n",
        "\n",
        "        outputs = model(inputs)\n",
        "        loss = criterion(outputs, labels)\n",
        "        loss.backward()\n",
        "        optimizer.step()\n",
        "\n",
        "        running_loss += loss.item()\n",
        "\n",
        "    # Calculate average training loss for the epoch\n",
        "    average_train_loss = running_loss / len(train_loader)\n",
        "\n",
        "    # Validation loop\n",
        "    model.eval()\n",
        "    val_loss = 0.0\n",
        "    correct = 0\n",
        "    total = 0\n",
        "\n",
        "    with torch.no_grad():\n",
        "        for inputs, labels in valid_loader:\n",
        "            # Move inputs and labels to GPU\n",
        "            inputs, labels = inputs.to(device), labels.to(device)\n",
        "\n",
        "            outputs = model(inputs)\n",
        "            loss = criterion(outputs, labels)\n",
        "            val_loss += loss.item()\n",
        "\n",
        "            _, predicted = outputs.max(1)\n",
        "            total += labels.size(0)\n",
        "            correct += predicted.eq(labels).sum().item()\n",
        "\n",
        "        # Calculate average validation loss and accuracy for the epoch\n",
        "        average_val_loss = val_loss / len(valid_loader)\n",
        "        accuracy = correct / total\n",
        "\n",
        "        print(f\"Epoch {epoch+1}/{num_epochs} => \"\n",
        "              f\"Train Loss: {average_train_loss:.4f}, \"\n",
        "              f\"Validation Loss: {average_val_loss:.4f}, \"\n",
        "              f\"Validation Accuracy: {accuracy * 100:.2f}%\")\n",
        "\n",
        "        # Check for early stopping\n",
        "        if early_stopper.early_stop(average_val_loss):\n",
        "            print(f\"Early stopping triggered at epoch {epoch+1}.\")\n",
        "            break\n"
      ]
    },
    {
      "cell_type": "code",
      "execution_count": 10,
      "metadata": {
        "id": "42p3FUy_tWsM"
      },
      "outputs": [],
      "source": [
        "torch.save(model.state_dict(), \"card_classifier.pth\")"
      ]
    }
  ],
  "metadata": {
    "accelerator": "GPU",
    "colab": {
      "gpuType": "T4",
      "provenance": []
    },
    "kernelspec": {
      "display_name": "Python 3",
      "name": "python3"
    },
    "language_info": {
      "codemirror_mode": {
        "name": "ipython",
        "version": 3
      },
      "file_extension": ".py",
      "mimetype": "text/x-python",
      "name": "python",
      "nbconvert_exporter": "python",
      "pygments_lexer": "ipython3",
      "version": "3.10.11"
    }
  },
  "nbformat": 4,
  "nbformat_minor": 0
}
